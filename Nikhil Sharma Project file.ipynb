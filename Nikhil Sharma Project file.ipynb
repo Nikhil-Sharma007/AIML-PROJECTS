{
 "cells": [
  {
   "cell_type": "code",
   "execution_count": 9,
   "id": "de864860",
   "metadata": {},
   "outputs": [],
   "source": [
    "import numpy as np\n",
    "import pandas as pd\n",
    "import scipy.stats as stats\n",
    "import matplotlib.pyplot as plt\n",
    "import seaborn as sns\n",
    "%matplotlib inline \n",
    "from scipy.stats import ttest_ind  \n",
    "from statsmodels.stats.proportion import proportions_ztest  \n",
    "import statsmodels.api  as     sm\n",
    "from   statsmodels.formula.api import ols"
   ]
  },
  {
   "cell_type": "markdown",
   "id": "4b06e3aa",
   "metadata": {},
   "source": [
    "# Part A"
   ]
  },
  {
   "cell_type": "markdown",
   "id": "cfa55ed7",
   "metadata": {},
   "source": [
    "# 1.A. Refer above table and find the joint probability of the people who planned to purchase and actually placed an order"
   ]
  },
  {
   "cell_type": "code",
   "execution_count": 15,
   "id": "74f88785",
   "metadata": {},
   "outputs": [
    {
     "name": "stdout",
     "output_type": "stream",
     "text": [
      "joint probability is 20.0 %\n"
     ]
    }
   ],
   "source": [
    "E1 = 500/2000 #people who planned to purchase\n",
    "E2 = 400/500  #people who actually purchased\n",
    "Joint_probability = (E1*E2)*100 # P(A and B) = P(A).P(B)\n",
    "print('joint probability is',Joint_probability,'%')"
   ]
  },
  {
   "cell_type": "markdown",
   "id": "74cb3777",
   "metadata": {},
   "source": [
    "# 1.B. Refer to the above table and find the joint probability of the people who planned to purchase and actually placed an order, given that people planned to purchase"
   ]
  },
  {
   "cell_type": "code",
   "execution_count": 14,
   "id": "b80872e5",
   "metadata": {},
   "outputs": [
    {
     "name": "stdout",
     "output_type": "stream",
     "text": [
      "joint probability is 80.0 %\n"
     ]
    }
   ],
   "source": [
    "x = 400/2000 #P(Actually Purchased | Planned to Purchase)\n",
    "y = 500/2000 #Planned to Purchase\n",
    "z = x/y*100  \n",
    "print('joint probability is',z,'%')"
   ]
  },
  {
   "cell_type": "markdown",
   "id": "cc253a0c",
   "metadata": {},
   "source": [
    "# 2. An electrical manufacturing company conducts quality checks at specified periods on the products it manufactures. Historically, the failure rate for the manufactured item is 5%. Suppose a random sample of 10 manufactured items is selected. Answer the following questions\n",
    "\n"
   ]
  },
  {
   "cell_type": "code",
   "execution_count": 17,
   "id": "0dcfe231",
   "metadata": {},
   "outputs": [
    {
     "data": {
      "text/plain": [
       "array([ 0,  1,  2,  3,  4,  5,  6,  7,  8,  9, 10])"
      ]
     },
     "execution_count": 17,
     "metadata": {},
     "output_type": "execute_result"
    }
   ],
   "source": [
    "n=10 #number of samples\n",
    "p=0.05 #given probability\n",
    "\n",
    "t=np.arange(0,11) \n",
    "t"
   ]
  },
  {
   "cell_type": "code",
   "execution_count": 18,
   "id": "0b7a62c7",
   "metadata": {},
   "outputs": [
    {
     "data": {
      "text/plain": [
       "array([5.98736939e-01, 3.15124705e-01, 7.46347985e-02, 1.04750594e-02,\n",
       "       9.64808106e-04, 6.09352488e-05, 2.67259863e-06, 8.03789062e-08,\n",
       "       1.58642578e-09, 1.85546875e-11, 9.76562500e-14])"
      ]
     },
     "execution_count": 18,
     "metadata": {},
     "output_type": "execute_result"
    }
   ],
   "source": [
    "binomial = stats.binom.pmf(t,n,p)\n",
    "binomial"
   ]
  },
  {
   "cell_type": "code",
   "execution_count": 19,
   "id": "4fbf8c0f",
   "metadata": {},
   "outputs": [
    {
     "name": "stdout",
     "output_type": "stream",
     "text": [
      "Probability that none of the items are defective is 59.87369392383787 %\n"
     ]
    }
   ],
   "source": [
    "#2.A.Probability that none of the items are defective?\n",
    "stats.binom.pmf(0,n,p)*100\n",
    "\n",
    "print('Probability that none of the items are defective is',stats.binom.pmf(0,n,p)*100,'%')"
   ]
  },
  {
   "cell_type": "code",
   "execution_count": 20,
   "id": "a341829c",
   "metadata": {},
   "outputs": [
    {
     "name": "stdout",
     "output_type": "stream",
     "text": [
      "Probability that exactly one of the items is defective 31.51247048623047 %\n"
     ]
    }
   ],
   "source": [
    "#2.B.Probability that exactly one of the items is defective?\n",
    "stats.binom.pmf(1,n,p)*100\n",
    "print('Probability that exactly one of the items is defective',stats.binom.pmf(1,n,p)*100,'%')"
   ]
  },
  {
   "cell_type": "code",
   "execution_count": 21,
   "id": "5a8e3623",
   "metadata": {},
   "outputs": [
    {
     "name": "stdout",
     "output_type": "stream",
     "text": [
      "Probability that two or fewer of the items are defective is 98.84964426207031 %\n"
     ]
    }
   ],
   "source": [
    "#2.C.Probability that two or fewer of the items are defective?\n",
    "stats.binom.cdf(2,n,p) #using cumulative distribution fuction\n",
    "print('Probability that two or fewer of the items are defective is',stats.binom.cdf(2,n,p)*100,'%')"
   ]
  },
  {
   "cell_type": "code",
   "execution_count": 22,
   "id": "6e8a6e7d",
   "metadata": {},
   "outputs": [
    {
     "name": "stdout",
     "output_type": "stream",
     "text": [
      "Probability that three or more of the items are defective is 1.150355737929687 %\n"
     ]
    }
   ],
   "source": [
    "#2.D.Probability that three or more of the items are defective?\n",
    "1-stats.binom.cdf(2,n,p)\n",
    "Prob_of_3_or_more = (1-stats.binom.cdf(2,n,p))*100\n",
    "print('Probability that three or more of the items are defective is',Prob_of_3_or_more,'%')"
   ]
  },
  {
   "cell_type": "markdown",
   "id": "71106ada",
   "metadata": {},
   "source": [
    "# 3. A car salesman sells on an average 3 cars per week."
   ]
  },
  {
   "cell_type": "code",
   "execution_count": 23,
   "id": "62e6806d",
   "metadata": {},
   "outputs": [
    {
     "name": "stdout",
     "output_type": "stream",
     "text": [
      "Probability that in a given week he will sell some cars 95.0212931632136 %\n"
     ]
    }
   ],
   "source": [
    "#3.A. What is Probability that in a given week he will sell some cars?\n",
    "rate = 3\n",
    "prob_of_selling_0 = stats.poisson.pmf(0,3)\n",
    "prob_of_selling_some = (1-prob_of_selling_0)*100\n",
    "print('Probability that in a given week he will sell some cars',prob_of_selling_some,'%')"
   ]
  },
  {
   "cell_type": "code",
   "execution_count": 24,
   "id": "d488f919",
   "metadata": {},
   "outputs": [
    {
     "name": "stdout",
     "output_type": "stream",
     "text": [
      "Probability that in a given week he will sell 2 or more but less than 5 cars 61.611497105231635 %\n"
     ]
    }
   ],
   "source": [
    "#3.B. What is Probability that in a given week he will sell 2 or more but less than 5 cars?\n",
    "prob_of_more_than_2_and_less_than_5 = (stats.poisson.cdf(4,3)-stats.poisson.cdf(1,3))*100\n",
    "print('Probability that in a given week he will sell 2 or more but less than 5 cars',prob_of_more_than_2_and_less_than_5,'%')"
   ]
  },
  {
   "cell_type": "code",
   "execution_count": 28,
   "id": "2779b84c",
   "metadata": {},
   "outputs": [
    {
     "data": {
      "text/plain": [
       "array([0.04978707, 0.19914827, 0.42319008, 0.64723189])"
      ]
     },
     "execution_count": 28,
     "metadata": {},
     "output_type": "execute_result"
    }
   ],
   "source": [
    "#3.C. Plot the poisson distribution function for cumulative probability of cars sold per-week vs number of cars sold per week.\n",
    "sp=np.arange(0,4)\n",
    "poisson = stats.poisson.cdf(sp,3)\n",
    "poisson"
   ]
  },
  {
   "cell_type": "code",
   "execution_count": 26,
   "id": "4e138bd9",
   "metadata": {},
   "outputs": [
    {
     "data": {
      "text/plain": [
       "array([ 4.97870684, 19.91482735, 42.31900811, 64.72318888])"
      ]
     },
     "execution_count": 26,
     "metadata": {},
     "output_type": "execute_result"
    }
   ],
   "source": [
    "poisson*100"
   ]
  },
  {
   "cell_type": "code",
   "execution_count": 29,
   "id": "994a9fbc",
   "metadata": {},
   "outputs": [
    {
     "data": {
      "image/png": "[encoded data removed]",
      "text/plain": [
       "<Figure size 432x288 with 1 Axes>"
      ]
     },
     "metadata": {
      "needs_background": "light"
     },
     "output_type": "display_data"
    }
   ],
   "source": [
    "plt.plot(sp,poisson,'o-')\n",
    "plt.title('Poisson: $\\lambda$ = %i ' % rate)\n",
    "plt.xlabel('Number of cars sold per week')\n",
    "plt.ylabel('Probability of cars sold per-week')\n",
    "plt.show()"
   ]
  },
  {
   "cell_type": "markdown",
   "id": "e8fd530e",
   "metadata": {},
   "source": [
    "# 4. Accuracy in understanding orders for a speech based bot at a restaurant is important for the Company X which has designed,marketed and launched the product for a contactless delivery due to the COVID-19 pandemic. Recognition accuracy that measures the percentage of orders that are taken correctly is 86.8%. Suppose that you place an order with the bot and two friends of yours independently place orders with the same bot. Answer the following questions.\n",
    "\n",
    "\n"
   ]
  },
  {
   "cell_type": "code",
   "execution_count": 30,
   "id": "f971e7ad",
   "metadata": {},
   "outputs": [
    {
     "data": {
      "text/plain": [
       "array([0, 1, 2, 3, 4])"
      ]
     },
     "execution_count": 30,
     "metadata": {},
     "output_type": "execute_result"
    }
   ],
   "source": [
    "sample_size = 3\n",
    "Percentage_of_orders = 0.868\n",
    "\n",
    "K = np.arange(0,5)\n",
    "K\n"
   ]
  },
  {
   "cell_type": "code",
   "execution_count": 31,
   "id": "3865d08a",
   "metadata": {},
   "outputs": [
    {
     "name": "stdout",
     "output_type": "stream",
     "text": [
      "The probability that all three orders will be recognised correctly is 99.7700032 %\n"
     ]
    }
   ],
   "source": [
    "#4.A.What is the probability that all three orders will be recognised correctly?\n",
    "\n",
    "binomial1 = stats.binom.pmf(1,3,0.868) + stats.binom.pmf(2,3,0.868) + stats.binom.pmf(3,3,0.868)\n",
    "\n",
    "print('The probability that all three orders will be recognised correctly is',binomial1*100,'%')"
   ]
  },
  {
   "cell_type": "code",
   "execution_count": 32,
   "id": "1a47e7aa",
   "metadata": {},
   "outputs": [
    {
     "name": "stdout",
     "output_type": "stream",
     "text": [
      "The probability that none of the three orders will be recognised correctly is 0.22999680000000003 %\n"
     ]
    }
   ],
   "source": [
    "#4.B.What is the probability that none of the three orders will be recognised correctly?\n",
    "\n",
    "binomial2 = stats.binom.pmf(0,3,0.868)\n",
    "\n",
    "print('The probability that none of the three orders will be recognised correctly is',binomial2*100,\"%\")"
   ]
  },
  {
   "cell_type": "code",
   "execution_count": 33,
   "id": "0186c09f",
   "metadata": {},
   "outputs": [
    {
     "name": "stdout",
     "output_type": "stream",
     "text": [
      "The probability that at least two of the three orders will be recognised correctly is 34.372800000000005 %\n"
     ]
    }
   ],
   "source": [
    "#4.C.What is the probability that at least two of the three orders will be recognised correctly?\n",
    "\n",
    "binomial3 = stats.binom.pmf(1,3,0.868) + stats.binom.pmf(2,3,0.868)\n",
    "\n",
    "rint('The probability that at least two of the three orders will be recognised correctly is',binomial3*100,'%')"
   ]
  },
  {
   "cell_type": "markdown",
   "id": "e5b194fe",
   "metadata": {},
   "source": [
    "# 5. Real life industry scenario - Online travel company Goibibo has a chatbot to handle customer queries. As per past records, the chatbot provides accurate resolutions to customer queries in 78.5% of cases.Based on a sample of 10 random chats."
   ]
  },
  {
   "cell_type": "code",
   "execution_count": 34,
   "id": "1bf2ea5e",
   "metadata": {},
   "outputs": [
    {
     "data": {
      "text/plain": [
       "array([ 0,  1,  2,  3,  4,  5,  6,  7,  8,  9, 10])"
      ]
     },
     "execution_count": 34,
     "metadata": {},
     "output_type": "execute_result"
    }
   ],
   "source": [
    "sample_chats = 10\n",
    "Success_rate = 0.785\n",
    "\n",
    "number_of_chats = np.arange(0,11)\n",
    "number_of_chats"
   ]
  },
  {
   "cell_type": "code",
   "execution_count": 44,
   "id": "0b50e295",
   "metadata": {},
   "outputs": [
    {
     "name": "stdout",
     "output_type": "stream",
     "text": [
      "accurate resolutions to customer queries not provided in any of the chats 2.6559922791423967e-05 %\n"
     ]
    }
   ],
   "source": [
    "#1.accurate resolutions to customer queries not provided in any of the chats\n",
    "binomial4=stats.binom.pmf(0,10,0.780)*100\n",
    "print('accurate resolutions to customer queries not provided in any of the chats',binomial4,'%')"
   ]
  },
  {
   "cell_type": "code",
   "execution_count": 45,
   "id": "de9166b1",
   "metadata": {},
   "outputs": [
    {
     "name": "stdout",
     "output_type": "stream",
     "text": [
      "accurate resolutions to customer queries are provided in all 10 chats is 99.99997344007721 %\n"
     ]
    }
   ],
   "source": [
    "#2.accurate resolutions to customer queries are provided in all 10 chats\n",
    "\n",
    "binomial6=(stats.binom.pmf(1,10,0.78)+stats.binom.pmf(2,10,0.78)+stats.binom.pmf(3,10,0.78)+stats.binom.pmf(4,10,0.78)+stats.binom.pmf(5,10,0.78)+stats.binom.pmf(6,10,0.78)+stats.binom.pmf(7,10,0.78)+stats.binom.pmf(8,10,0.78)+stats.binom.pmf(9,10,0.78)+stats.binom.pmf(10,10,0.78))*100\n",
    "print('accurate resolutions to customer queries are provided in all 10 chats is',binomial6,'%')"
   ]
  },
  {
   "cell_type": "code",
   "execution_count": 70,
   "id": "33c9b70a",
   "metadata": {},
   "outputs": [
    {
     "name": "stdout",
     "output_type": "stream",
     "text": [
      "accurate resolutions to customer queries is provided for at least 3 chats is 33.80733022370778 %\n"
     ]
    }
   ],
   "source": [
    "#3.accurate resolutions to customer queries is provided for at least 5 chats\n",
    "\n",
    "binomial6= stats.binom.pmf(1,10,0.78) + stats.binom.pmf(2,10,0.78) + stats.binom.pmf(3,10,0.78)+ stats.binom.pmf(4,10,0.78)+ stats.binom.pmf(5,5,0.80)\n",
    "print('accurate resolutions to customer queries is provided for at least 3 chats is',binomial6*100,'%')   "
   ]
  },
  {
   "cell_type": "markdown",
   "id": "28816650",
   "metadata": {},
   "source": [
    "# Part B"
   ]
  },
  {
   "cell_type": "markdown",
   "id": "290984c7",
   "metadata": {},
   "source": [
    "# Company X manages the men's top professional basketball division of the American league system. The dataset contains informationon all the teams that have participated in all the past tournaments. It has data about how many baskets each team scored, conceded, how many times they came within the first 2 positions, how many tournaments they have qualified, their best position in the past, etc"
   ]
  },
  {
   "cell_type": "code",
   "execution_count": 78,
   "id": "333b75bd",
   "metadata": {},
   "outputs": [],
   "source": [
    "#Read the dataset\n",
    "data= pd.read_csv(\"C:\\\\Users\\\\DELL\\\\Downloads\\\\Basketball.csv\")\n"
   ]
  },
  {
   "cell_type": "code",
   "execution_count": 80,
   "id": "8c5e3b1d",
   "metadata": {},
   "outputs": [
    {
     "data": {
      "text/html": [
       "<div>\n",
       "<style scoped>\n",
       "    .dataframe tbody tr th:only-of-type {\n",
       "        vertical-align: middle;\n",
       "    }\n",
       "\n",
       "    .dataframe tbody tr th {\n",
       "        vertical-align: top;\n",
       "    }\n",
       "\n",
       "    .dataframe thead th {\n",
       "        text-align: right;\n",
       "    }\n",
       "</style>\n",
       "<table border=\"1\" class=\"dataframe\">\n",
       "  <thead>\n",
       "    <tr style=\"text-align: right;\">\n",
       "      <th></th>\n",
       "      <th>Team</th>\n",
       "      <th>Tournament</th>\n",
       "      <th>Score</th>\n",
       "      <th>PlayedGames</th>\n",
       "      <th>WonGames</th>\n",
       "      <th>DrawnGames</th>\n",
       "      <th>LostGames</th>\n",
       "      <th>BasketScored</th>\n",
       "      <th>BasketGiven</th>\n",
       "      <th>TournamentChampion</th>\n",
       "      <th>Runner-up</th>\n",
       "      <th>TeamLaunch</th>\n",
       "      <th>HighestPositionHeld</th>\n",
       "    </tr>\n",
       "  </thead>\n",
       "  <tbody>\n",
       "    <tr>\n",
       "      <th>0</th>\n",
       "      <td>Team 1</td>\n",
       "      <td>86</td>\n",
       "      <td>4385</td>\n",
       "      <td>2762</td>\n",
       "      <td>1647</td>\n",
       "      <td>552</td>\n",
       "      <td>563</td>\n",
       "      <td>5947</td>\n",
       "      <td>3140</td>\n",
       "      <td>33</td>\n",
       "      <td>23</td>\n",
       "      <td>1929</td>\n",
       "      <td>1</td>\n",
       "    </tr>\n",
       "    <tr>\n",
       "      <th>1</th>\n",
       "      <td>Team 2</td>\n",
       "      <td>86</td>\n",
       "      <td>4262</td>\n",
       "      <td>2762</td>\n",
       "      <td>1581</td>\n",
       "      <td>573</td>\n",
       "      <td>608</td>\n",
       "      <td>5900</td>\n",
       "      <td>3114</td>\n",
       "      <td>25</td>\n",
       "      <td>25</td>\n",
       "      <td>1929</td>\n",
       "      <td>1</td>\n",
       "    </tr>\n",
       "    <tr>\n",
       "      <th>2</th>\n",
       "      <td>Team 3</td>\n",
       "      <td>80</td>\n",
       "      <td>3442</td>\n",
       "      <td>2614</td>\n",
       "      <td>1241</td>\n",
       "      <td>598</td>\n",
       "      <td>775</td>\n",
       "      <td>4534</td>\n",
       "      <td>3309</td>\n",
       "      <td>10</td>\n",
       "      <td>8</td>\n",
       "      <td>1929</td>\n",
       "      <td>1</td>\n",
       "    </tr>\n",
       "    <tr>\n",
       "      <th>3</th>\n",
       "      <td>Team 4</td>\n",
       "      <td>82</td>\n",
       "      <td>3386</td>\n",
       "      <td>2664</td>\n",
       "      <td>1187</td>\n",
       "      <td>616</td>\n",
       "      <td>861</td>\n",
       "      <td>4398</td>\n",
       "      <td>3469</td>\n",
       "      <td>6</td>\n",
       "      <td>6</td>\n",
       "      <td>1931to32</td>\n",
       "      <td>1</td>\n",
       "    </tr>\n",
       "    <tr>\n",
       "      <th>4</th>\n",
       "      <td>Team 5</td>\n",
       "      <td>86</td>\n",
       "      <td>3368</td>\n",
       "      <td>2762</td>\n",
       "      <td>1209</td>\n",
       "      <td>633</td>\n",
       "      <td>920</td>\n",
       "      <td>4631</td>\n",
       "      <td>3700</td>\n",
       "      <td>8</td>\n",
       "      <td>7</td>\n",
       "      <td>1929</td>\n",
       "      <td>1</td>\n",
       "    </tr>\n",
       "  </tbody>\n",
       "</table>\n",
       "</div>"
      ],
      "text/plain": [
       "     Team  Tournament Score PlayedGames WonGames DrawnGames LostGames  \\\n",
       "0  Team 1          86  4385        2762     1647        552       563   \n",
       "1  Team 2          86  4262        2762     1581        573       608   \n",
       "2  Team 3          80  3442        2614     1241        598       775   \n",
       "3  Team 4          82  3386        2664     1187        616       861   \n",
       "4  Team 5          86  3368        2762     1209        633       920   \n",
       "\n",
       "  BasketScored BasketGiven TournamentChampion Runner-up TeamLaunch  \\\n",
       "0         5947        3140                 33        23       1929   \n",
       "1         5900        3114                 25        25       1929   \n",
       "2         4534        3309                 10         8       1929   \n",
       "3         4398        3469                  6         6   1931to32   \n",
       "4         4631        3700                  8         7       1929   \n",
       "\n",
       "   HighestPositionHeld  \n",
       "0                    1  \n",
       "1                    1  \n",
       "2                    1  \n",
       "3                    1  \n",
       "4                    1  "
      ]
     },
     "execution_count": 80,
     "metadata": {},
     "output_type": "execute_result"
    }
   ],
   "source": [
    "data.head()"
   ]
  },
  {
   "cell_type": "code",
   "execution_count": 82,
   "id": "85cc83b6",
   "metadata": {},
   "outputs": [
    {
     "data": {
      "text/plain": [
       "Team                   0\n",
       "Tournament             0\n",
       "Score                  0\n",
       "PlayedGames            0\n",
       "WonGames               0\n",
       "DrawnGames             0\n",
       "LostGames              0\n",
       "BasketScored           0\n",
       "BasketGiven            0\n",
       "TournamentChampion     0\n",
       "Runner-up              0\n",
       "TeamLaunch             0\n",
       "HighestPositionHeld    0\n",
       "dtype: int64"
      ]
     },
     "execution_count": 82,
     "metadata": {},
     "output_type": "execute_result"
    }
   ],
   "source": [
    "#1.Check for null values\n",
    "data.isna().sum()"
   ]
  },
  {
   "cell_type": "code",
   "execution_count": 85,
   "id": "b554ed55",
   "metadata": {},
   "outputs": [
    {
     "name": "stdout",
     "output_type": "stream",
     "text": [
      "<class 'pandas.core.frame.DataFrame'>\n",
      "RangeIndex: 61 entries, 0 to 60\n",
      "Data columns (total 13 columns):\n",
      " #   Column               Non-Null Count  Dtype \n",
      "---  ------               --------------  ----- \n",
      " 0   Team                 61 non-null     object\n",
      " 1   Tournament           61 non-null     int64 \n",
      " 2   Score                61 non-null     object\n",
      " 3   PlayedGames          61 non-null     object\n",
      " 4   WonGames             61 non-null     object\n",
      " 5   DrawnGames           61 non-null     object\n",
      " 6   LostGames            61 non-null     object\n",
      " 7   BasketScored         61 non-null     object\n",
      " 8   BasketGiven          61 non-null     object\n",
      " 9   TournamentChampion   61 non-null     object\n",
      " 10  Runner-up            61 non-null     object\n",
      " 11  TeamLaunch           61 non-null     object\n",
      " 12  HighestPositionHeld  61 non-null     int64 \n",
      "dtypes: int64(2), object(11)\n",
      "memory usage: 6.3+ KB\n"
     ]
    }
   ],
   "source": [
    "#2. check data information,count and data type etc\n",
    "data.info()"
   ]
  },
  {
   "cell_type": "code",
   "execution_count": 86,
   "id": "61239185",
   "metadata": {},
   "outputs": [
    {
     "data": {
      "text/plain": [
       "0"
      ]
     },
     "execution_count": 86,
     "metadata": {},
     "output_type": "execute_result"
    }
   ],
   "source": [
    "#3.Check for duplicates\n",
    "duplicates = data.duplicated()\n",
    "sum(duplicates)"
   ]
  },
  {
   "cell_type": "code",
   "execution_count": 87,
   "id": "5a739834",
   "metadata": {},
   "outputs": [
    {
     "data": {
      "text/html": [
       "<div>\n",
       "<style scoped>\n",
       "    .dataframe tbody tr th:only-of-type {\n",
       "        vertical-align: middle;\n",
       "    }\n",
       "\n",
       "    .dataframe tbody tr th {\n",
       "        vertical-align: top;\n",
       "    }\n",
       "\n",
       "    .dataframe thead th {\n",
       "        text-align: right;\n",
       "    }\n",
       "</style>\n",
       "<table border=\"1\" class=\"dataframe\">\n",
       "  <thead>\n",
       "    <tr style=\"text-align: right;\">\n",
       "      <th></th>\n",
       "      <th>Team</th>\n",
       "      <th>Tournament</th>\n",
       "      <th>Score</th>\n",
       "      <th>PlayedGames</th>\n",
       "      <th>WonGames</th>\n",
       "      <th>DrawnGames</th>\n",
       "      <th>LostGames</th>\n",
       "      <th>BasketScored</th>\n",
       "      <th>BasketGiven</th>\n",
       "      <th>TournamentChampion</th>\n",
       "      <th>Runner-up</th>\n",
       "      <th>TeamLaunch</th>\n",
       "      <th>HighestPositionHeld</th>\n",
       "    </tr>\n",
       "  </thead>\n",
       "  <tbody>\n",
       "    <tr>\n",
       "      <th>56</th>\n",
       "      <td>Team 57</td>\n",
       "      <td>1</td>\n",
       "      <td>34</td>\n",
       "      <td>38</td>\n",
       "      <td>8</td>\n",
       "      <td>10</td>\n",
       "      <td>20</td>\n",
       "      <td>38</td>\n",
       "      <td>66</td>\n",
       "      <td>-</td>\n",
       "      <td>-</td>\n",
       "      <td>2009-10</td>\n",
       "      <td>20</td>\n",
       "    </tr>\n",
       "    <tr>\n",
       "      <th>57</th>\n",
       "      <td>Team 58</td>\n",
       "      <td>1</td>\n",
       "      <td>22</td>\n",
       "      <td>30</td>\n",
       "      <td>7</td>\n",
       "      <td>8</td>\n",
       "      <td>15</td>\n",
       "      <td>37</td>\n",
       "      <td>57</td>\n",
       "      <td>-</td>\n",
       "      <td>-</td>\n",
       "      <td>1956-57</td>\n",
       "      <td>16</td>\n",
       "    </tr>\n",
       "    <tr>\n",
       "      <th>58</th>\n",
       "      <td>Team 59</td>\n",
       "      <td>1</td>\n",
       "      <td>19</td>\n",
       "      <td>30</td>\n",
       "      <td>7</td>\n",
       "      <td>5</td>\n",
       "      <td>18</td>\n",
       "      <td>51</td>\n",
       "      <td>85</td>\n",
       "      <td>-</td>\n",
       "      <td>-</td>\n",
       "      <td>1951~52</td>\n",
       "      <td>16</td>\n",
       "    </tr>\n",
       "    <tr>\n",
       "      <th>59</th>\n",
       "      <td>Team 60</td>\n",
       "      <td>1</td>\n",
       "      <td>14</td>\n",
       "      <td>30</td>\n",
       "      <td>5</td>\n",
       "      <td>4</td>\n",
       "      <td>21</td>\n",
       "      <td>34</td>\n",
       "      <td>65</td>\n",
       "      <td>-</td>\n",
       "      <td>-</td>\n",
       "      <td>1955-56</td>\n",
       "      <td>15</td>\n",
       "    </tr>\n",
       "    <tr>\n",
       "      <th>60</th>\n",
       "      <td>Team 61</td>\n",
       "      <td>1</td>\n",
       "      <td>-</td>\n",
       "      <td>-</td>\n",
       "      <td>-</td>\n",
       "      <td>-</td>\n",
       "      <td>-</td>\n",
       "      <td>-</td>\n",
       "      <td>-</td>\n",
       "      <td>-</td>\n",
       "      <td>-</td>\n",
       "      <td>2017~18</td>\n",
       "      <td>9</td>\n",
       "    </tr>\n",
       "  </tbody>\n",
       "</table>\n",
       "</div>"
      ],
      "text/plain": [
       "       Team  Tournament Score PlayedGames WonGames DrawnGames LostGames  \\\n",
       "56  Team 57           1    34          38        8         10        20   \n",
       "57  Team 58           1    22          30        7          8        15   \n",
       "58  Team 59           1    19          30        7          5        18   \n",
       "59  Team 60           1    14          30        5          4        21   \n",
       "60  Team 61           1     -           -        -          -         -   \n",
       "\n",
       "   BasketScored BasketGiven TournamentChampion Runner-up TeamLaunch  \\\n",
       "56           38          66                  -         -    2009-10   \n",
       "57           37          57                  -         -    1956-57   \n",
       "58           51          85                  -         -    1951~52   \n",
       "59           34          65                  -         -    1955-56   \n",
       "60            -           -                  -         -    2017~18   \n",
       "\n",
       "    HighestPositionHeld  \n",
       "56                   20  \n",
       "57                   16  \n",
       "58                   16  \n",
       "59                   15  \n",
       "60                    9  "
      ]
     },
     "execution_count": 87,
     "metadata": {},
     "output_type": "execute_result"
    }
   ],
   "source": [
    "data.tail()"
   ]
  },
  {
   "cell_type": "code",
   "execution_count": 91,
   "id": "52a9c9f0",
   "metadata": {},
   "outputs": [
    {
     "name": "stdout",
     "output_type": "stream",
     "text": [
      "TournamentChampion ['33' '25' '10' '6' '8' '1' '-' '2']\n"
     ]
    }
   ],
   "source": [
    "#CHeck unique values count\n",
    "print(\"TournamentChampion\",data['TournamentChampion'].unique())"
   ]
  },
  {
   "cell_type": "code",
   "execution_count": 93,
   "id": "630c30a1",
   "metadata": {},
   "outputs": [
    {
     "name": "stdout",
     "output_type": "stream",
     "text": [
      "Runner-up ['23' '25' '8' '6' '7' '4' '-' '3' '1' '5']\n"
     ]
    }
   ],
   "source": [
    "print(\"Runner-up\",data['Runner-up'].unique())"
   ]
  },
  {
   "cell_type": "code",
   "execution_count": 94,
   "id": "71663662",
   "metadata": {},
   "outputs": [
    {
     "name": "stdout",
     "output_type": "stream",
     "text": [
      "Score ['4385' '4262' '3442' '3386' '3368' '2819' '2792' '2573' '2109' '1884'\n",
      " '1814' '1789' '1471' '1416' '1389' '1351' '1314' '1174' '1148' '1020'\n",
      " '970' '667' '662' '606' '553' '538' '510' '445' '421' '416' '375' '353'\n",
      " '343' '293' '285' '277' '242' '230' '190' '188' '168' '150' '148' '132'\n",
      " '107' '96' '91' '83' '81' '76' '71' '56' '52' '42' '40' '35' '34' '22'\n",
      " '19' '14' '-']\n"
     ]
    }
   ],
   "source": [
    "print(\"Score\",data['Score'].unique())"
   ]
  },
  {
   "cell_type": "code",
   "execution_count": 95,
   "id": "7c005ee8",
   "metadata": {},
   "outputs": [],
   "source": [
    "#Renames team column by reaplcing team with T to avoid null values in the further methods/visualization\n",
    "data['Team']=data['Team'].str.replace('Team ','T');\n",
    "columns = data.columns.drop('Team');\n",
    "\n",
    "#Datatypes are object hence change them to integers to get further insights around the data\n",
    "data[columns] = data[columns].apply(pd.to_numeric, errors='coerce')\n"
   ]
  },
  {
   "cell_type": "code",
   "execution_count": 96,
   "id": "7178b235",
   "metadata": {},
   "outputs": [],
   "source": [
    "data=data.replace('-',0); #Replacing - with 0 to have similar values in dataset."
   ]
  },
  {
   "cell_type": "code",
   "execution_count": 97,
   "id": "91e3f267",
   "metadata": {},
   "outputs": [
    {
     "data": {
      "text/html": [
       "<div>\n",
       "<style scoped>\n",
       "    .dataframe tbody tr th:only-of-type {\n",
       "        vertical-align: middle;\n",
       "    }\n",
       "\n",
       "    .dataframe tbody tr th {\n",
       "        vertical-align: top;\n",
       "    }\n",
       "\n",
       "    .dataframe thead th {\n",
       "        text-align: right;\n",
       "    }\n",
       "</style>\n",
       "<table border=\"1\" class=\"dataframe\">\n",
       "  <thead>\n",
       "    <tr style=\"text-align: right;\">\n",
       "      <th></th>\n",
       "      <th>Team</th>\n",
       "      <th>Tournament</th>\n",
       "      <th>Score</th>\n",
       "      <th>PlayedGames</th>\n",
       "      <th>WonGames</th>\n",
       "      <th>DrawnGames</th>\n",
       "      <th>LostGames</th>\n",
       "      <th>BasketScored</th>\n",
       "      <th>BasketGiven</th>\n",
       "      <th>TournamentChampion</th>\n",
       "      <th>Runner-up</th>\n",
       "      <th>TeamLaunch</th>\n",
       "      <th>HighestPositionHeld</th>\n",
       "    </tr>\n",
       "  </thead>\n",
       "  <tbody>\n",
       "    <tr>\n",
       "      <th>56</th>\n",
       "      <td>T57</td>\n",
       "      <td>1</td>\n",
       "      <td>34.0</td>\n",
       "      <td>38.0</td>\n",
       "      <td>8.0</td>\n",
       "      <td>10.0</td>\n",
       "      <td>20.0</td>\n",
       "      <td>38.0</td>\n",
       "      <td>66.0</td>\n",
       "      <td>NaN</td>\n",
       "      <td>NaN</td>\n",
       "      <td>NaN</td>\n",
       "      <td>20</td>\n",
       "    </tr>\n",
       "    <tr>\n",
       "      <th>57</th>\n",
       "      <td>T58</td>\n",
       "      <td>1</td>\n",
       "      <td>22.0</td>\n",
       "      <td>30.0</td>\n",
       "      <td>7.0</td>\n",
       "      <td>8.0</td>\n",
       "      <td>15.0</td>\n",
       "      <td>37.0</td>\n",
       "      <td>57.0</td>\n",
       "      <td>NaN</td>\n",
       "      <td>NaN</td>\n",
       "      <td>NaN</td>\n",
       "      <td>16</td>\n",
       "    </tr>\n",
       "    <tr>\n",
       "      <th>58</th>\n",
       "      <td>T59</td>\n",
       "      <td>1</td>\n",
       "      <td>19.0</td>\n",
       "      <td>30.0</td>\n",
       "      <td>7.0</td>\n",
       "      <td>5.0</td>\n",
       "      <td>18.0</td>\n",
       "      <td>51.0</td>\n",
       "      <td>85.0</td>\n",
       "      <td>NaN</td>\n",
       "      <td>NaN</td>\n",
       "      <td>NaN</td>\n",
       "      <td>16</td>\n",
       "    </tr>\n",
       "    <tr>\n",
       "      <th>59</th>\n",
       "      <td>T60</td>\n",
       "      <td>1</td>\n",
       "      <td>14.0</td>\n",
       "      <td>30.0</td>\n",
       "      <td>5.0</td>\n",
       "      <td>4.0</td>\n",
       "      <td>21.0</td>\n",
       "      <td>34.0</td>\n",
       "      <td>65.0</td>\n",
       "      <td>NaN</td>\n",
       "      <td>NaN</td>\n",
       "      <td>NaN</td>\n",
       "      <td>15</td>\n",
       "    </tr>\n",
       "    <tr>\n",
       "      <th>60</th>\n",
       "      <td>T61</td>\n",
       "      <td>1</td>\n",
       "      <td>NaN</td>\n",
       "      <td>NaN</td>\n",
       "      <td>NaN</td>\n",
       "      <td>NaN</td>\n",
       "      <td>NaN</td>\n",
       "      <td>NaN</td>\n",
       "      <td>NaN</td>\n",
       "      <td>NaN</td>\n",
       "      <td>NaN</td>\n",
       "      <td>NaN</td>\n",
       "      <td>9</td>\n",
       "    </tr>\n",
       "  </tbody>\n",
       "</table>\n",
       "</div>"
      ],
      "text/plain": [
       "   Team  Tournament  Score  PlayedGames  WonGames  DrawnGames  LostGames  \\\n",
       "56  T57           1   34.0         38.0       8.0        10.0       20.0   \n",
       "57  T58           1   22.0         30.0       7.0         8.0       15.0   \n",
       "58  T59           1   19.0         30.0       7.0         5.0       18.0   \n",
       "59  T60           1   14.0         30.0       5.0         4.0       21.0   \n",
       "60  T61           1    NaN          NaN       NaN         NaN        NaN   \n",
       "\n",
       "    BasketScored  BasketGiven  TournamentChampion  Runner-up  TeamLaunch  \\\n",
       "56          38.0         66.0                 NaN        NaN         NaN   \n",
       "57          37.0         57.0                 NaN        NaN         NaN   \n",
       "58          51.0         85.0                 NaN        NaN         NaN   \n",
       "59          34.0         65.0                 NaN        NaN         NaN   \n",
       "60           NaN          NaN                 NaN        NaN         NaN   \n",
       "\n",
       "    HighestPositionHeld  \n",
       "56                   20  \n",
       "57                   16  \n",
       "58                   16  \n",
       "59                   15  \n",
       "60                    9  "
      ]
     },
     "execution_count": 97,
     "metadata": {},
     "output_type": "execute_result"
    }
   ],
   "source": [
    "data.tail()"
   ]
  },
  {
   "cell_type": "code",
   "execution_count": 98,
   "id": "230428a3",
   "metadata": {},
   "outputs": [
    {
     "name": "stdout",
     "output_type": "stream",
     "text": [
      "<class 'pandas.core.frame.DataFrame'>\n",
      "RangeIndex: 61 entries, 0 to 60\n",
      "Data columns (total 13 columns):\n",
      " #   Column               Non-Null Count  Dtype  \n",
      "---  ------               --------------  -----  \n",
      " 0   Team                 61 non-null     object \n",
      " 1   Tournament           61 non-null     int64  \n",
      " 2   Score                60 non-null     float64\n",
      " 3   PlayedGames          60 non-null     float64\n",
      " 4   WonGames             60 non-null     float64\n",
      " 5   DrawnGames           60 non-null     float64\n",
      " 6   LostGames            60 non-null     float64\n",
      " 7   BasketScored         60 non-null     float64\n",
      " 8   BasketGiven          60 non-null     float64\n",
      " 9   TournamentChampion   9 non-null      float64\n",
      " 10  Runner-up            13 non-null     float64\n",
      " 11  TeamLaunch           10 non-null     float64\n",
      " 12  HighestPositionHeld  61 non-null     int64  \n",
      "dtypes: float64(10), int64(2), object(1)\n",
      "memory usage: 6.3+ KB\n"
     ]
    }
   ],
   "source": [
    "data.info()"
   ]
  },
  {
   "cell_type": "code",
   "execution_count": 99,
   "id": "095e9dab",
   "metadata": {},
   "outputs": [],
   "source": [
    "#Removed team 61 since it had 0 values in most fields \n",
    "data.drop(60,inplace=True)"
   ]
  },
  {
   "cell_type": "code",
   "execution_count": 100,
   "id": "2ca5ca8d",
   "metadata": {},
   "outputs": [
    {
     "data": {
      "text/html": [
       "<div>\n",
       "<style scoped>\n",
       "    .dataframe tbody tr th:only-of-type {\n",
       "        vertical-align: middle;\n",
       "    }\n",
       "\n",
       "    .dataframe tbody tr th {\n",
       "        vertical-align: top;\n",
       "    }\n",
       "\n",
       "    .dataframe thead th {\n",
       "        text-align: right;\n",
       "    }\n",
       "</style>\n",
       "<table border=\"1\" class=\"dataframe\">\n",
       "  <thead>\n",
       "    <tr style=\"text-align: right;\">\n",
       "      <th></th>\n",
       "      <th>Team</th>\n",
       "      <th>Tournament</th>\n",
       "      <th>Score</th>\n",
       "      <th>PlayedGames</th>\n",
       "      <th>WonGames</th>\n",
       "      <th>DrawnGames</th>\n",
       "      <th>LostGames</th>\n",
       "      <th>BasketScored</th>\n",
       "      <th>BasketGiven</th>\n",
       "      <th>TournamentChampion</th>\n",
       "      <th>Runner-up</th>\n",
       "      <th>TeamLaunch</th>\n",
       "      <th>HighestPositionHeld</th>\n",
       "    </tr>\n",
       "  </thead>\n",
       "  <tbody>\n",
       "    <tr>\n",
       "      <th>count</th>\n",
       "      <td>60</td>\n",
       "      <td>60.000000</td>\n",
       "      <td>60.000000</td>\n",
       "      <td>60.000000</td>\n",
       "      <td>60.000000</td>\n",
       "      <td>60.000000</td>\n",
       "      <td>60.000000</td>\n",
       "      <td>60.000000</td>\n",
       "      <td>60.000000</td>\n",
       "      <td>9.000000</td>\n",
       "      <td>13.000000</td>\n",
       "      <td>10.0</td>\n",
       "      <td>60.000000</td>\n",
       "    </tr>\n",
       "    <tr>\n",
       "      <th>unique</th>\n",
       "      <td>60</td>\n",
       "      <td>NaN</td>\n",
       "      <td>NaN</td>\n",
       "      <td>NaN</td>\n",
       "      <td>NaN</td>\n",
       "      <td>NaN</td>\n",
       "      <td>NaN</td>\n",
       "      <td>NaN</td>\n",
       "      <td>NaN</td>\n",
       "      <td>NaN</td>\n",
       "      <td>NaN</td>\n",
       "      <td>NaN</td>\n",
       "      <td>NaN</td>\n",
       "    </tr>\n",
       "    <tr>\n",
       "      <th>top</th>\n",
       "      <td>T1</td>\n",
       "      <td>NaN</td>\n",
       "      <td>NaN</td>\n",
       "      <td>NaN</td>\n",
       "      <td>NaN</td>\n",
       "      <td>NaN</td>\n",
       "      <td>NaN</td>\n",
       "      <td>NaN</td>\n",
       "      <td>NaN</td>\n",
       "      <td>NaN</td>\n",
       "      <td>NaN</td>\n",
       "      <td>NaN</td>\n",
       "      <td>NaN</td>\n",
       "    </tr>\n",
       "    <tr>\n",
       "      <th>freq</th>\n",
       "      <td>1</td>\n",
       "      <td>NaN</td>\n",
       "      <td>NaN</td>\n",
       "      <td>NaN</td>\n",
       "      <td>NaN</td>\n",
       "      <td>NaN</td>\n",
       "      <td>NaN</td>\n",
       "      <td>NaN</td>\n",
       "      <td>NaN</td>\n",
       "      <td>NaN</td>\n",
       "      <td>NaN</td>\n",
       "      <td>NaN</td>\n",
       "      <td>NaN</td>\n",
       "    </tr>\n",
       "    <tr>\n",
       "      <th>mean</th>\n",
       "      <td>NaN</td>\n",
       "      <td>24.383333</td>\n",
       "      <td>916.450000</td>\n",
       "      <td>810.100000</td>\n",
       "      <td>309.033333</td>\n",
       "      <td>192.083333</td>\n",
       "      <td>308.816667</td>\n",
       "      <td>1159.350000</td>\n",
       "      <td>1159.233333</td>\n",
       "      <td>9.666667</td>\n",
       "      <td>6.615385</td>\n",
       "      <td>1929.0</td>\n",
       "      <td>7.050000</td>\n",
       "    </tr>\n",
       "    <tr>\n",
       "      <th>std</th>\n",
       "      <td>NaN</td>\n",
       "      <td>26.884620</td>\n",
       "      <td>1138.342899</td>\n",
       "      <td>877.465393</td>\n",
       "      <td>408.481395</td>\n",
       "      <td>201.985508</td>\n",
       "      <td>294.508639</td>\n",
       "      <td>1512.063948</td>\n",
       "      <td>1163.946914</td>\n",
       "      <td>11.618950</td>\n",
       "      <td>8.109033</td>\n",
       "      <td>0.0</td>\n",
       "      <td>5.315232</td>\n",
       "    </tr>\n",
       "    <tr>\n",
       "      <th>min</th>\n",
       "      <td>NaN</td>\n",
       "      <td>1.000000</td>\n",
       "      <td>14.000000</td>\n",
       "      <td>30.000000</td>\n",
       "      <td>5.000000</td>\n",
       "      <td>4.000000</td>\n",
       "      <td>15.000000</td>\n",
       "      <td>34.000000</td>\n",
       "      <td>55.000000</td>\n",
       "      <td>1.000000</td>\n",
       "      <td>1.000000</td>\n",
       "      <td>1929.0</td>\n",
       "      <td>1.000000</td>\n",
       "    </tr>\n",
       "    <tr>\n",
       "      <th>25%</th>\n",
       "      <td>NaN</td>\n",
       "      <td>4.000000</td>\n",
       "      <td>104.250000</td>\n",
       "      <td>115.500000</td>\n",
       "      <td>34.750000</td>\n",
       "      <td>26.250000</td>\n",
       "      <td>62.750000</td>\n",
       "      <td>154.500000</td>\n",
       "      <td>236.000000</td>\n",
       "      <td>1.000000</td>\n",
       "      <td>1.000000</td>\n",
       "      <td>1929.0</td>\n",
       "      <td>3.000000</td>\n",
       "    </tr>\n",
       "    <tr>\n",
       "      <th>50%</th>\n",
       "      <td>NaN</td>\n",
       "      <td>12.000000</td>\n",
       "      <td>395.500000</td>\n",
       "      <td>424.500000</td>\n",
       "      <td>124.000000</td>\n",
       "      <td>98.500000</td>\n",
       "      <td>197.500000</td>\n",
       "      <td>444.000000</td>\n",
       "      <td>632.500000</td>\n",
       "      <td>6.000000</td>\n",
       "      <td>4.000000</td>\n",
       "      <td>1929.0</td>\n",
       "      <td>6.000000</td>\n",
       "    </tr>\n",
       "    <tr>\n",
       "      <th>75%</th>\n",
       "      <td>NaN</td>\n",
       "      <td>39.000000</td>\n",
       "      <td>1360.500000</td>\n",
       "      <td>1345.500000</td>\n",
       "      <td>432.750000</td>\n",
       "      <td>331.500000</td>\n",
       "      <td>563.500000</td>\n",
       "      <td>1669.750000</td>\n",
       "      <td>2001.250000</td>\n",
       "      <td>10.000000</td>\n",
       "      <td>7.000000</td>\n",
       "      <td>1929.0</td>\n",
       "      <td>10.000000</td>\n",
       "    </tr>\n",
       "    <tr>\n",
       "      <th>max</th>\n",
       "      <td>NaN</td>\n",
       "      <td>86.000000</td>\n",
       "      <td>4385.000000</td>\n",
       "      <td>2762.000000</td>\n",
       "      <td>1647.000000</td>\n",
       "      <td>633.000000</td>\n",
       "      <td>1070.000000</td>\n",
       "      <td>5947.000000</td>\n",
       "      <td>3889.000000</td>\n",
       "      <td>33.000000</td>\n",
       "      <td>25.000000</td>\n",
       "      <td>1929.0</td>\n",
       "      <td>20.000000</td>\n",
       "    </tr>\n",
       "  </tbody>\n",
       "</table>\n",
       "</div>"
      ],
      "text/plain": [
       "       Team  Tournament        Score  PlayedGames     WonGames  DrawnGames  \\\n",
       "count    60   60.000000    60.000000    60.000000    60.000000   60.000000   \n",
       "unique   60         NaN          NaN          NaN          NaN         NaN   \n",
       "top      T1         NaN          NaN          NaN          NaN         NaN   \n",
       "freq      1         NaN          NaN          NaN          NaN         NaN   \n",
       "mean    NaN   24.383333   916.450000   810.100000   309.033333  192.083333   \n",
       "std     NaN   26.884620  1138.342899   877.465393   408.481395  201.985508   \n",
       "min     NaN    1.000000    14.000000    30.000000     5.000000    4.000000   \n",
       "25%     NaN    4.000000   104.250000   115.500000    34.750000   26.250000   \n",
       "50%     NaN   12.000000   395.500000   424.500000   124.000000   98.500000   \n",
       "75%     NaN   39.000000  1360.500000  1345.500000   432.750000  331.500000   \n",
       "max     NaN   86.000000  4385.000000  2762.000000  1647.000000  633.000000   \n",
       "\n",
       "          LostGames  BasketScored  BasketGiven  TournamentChampion  Runner-up  \\\n",
       "count     60.000000     60.000000    60.000000            9.000000  13.000000   \n",
       "unique          NaN           NaN          NaN                 NaN        NaN   \n",
       "top             NaN           NaN          NaN                 NaN        NaN   \n",
       "freq            NaN           NaN          NaN                 NaN        NaN   \n",
       "mean     308.816667   1159.350000  1159.233333            9.666667   6.615385   \n",
       "std      294.508639   1512.063948  1163.946914           11.618950   8.109033   \n",
       "min       15.000000     34.000000    55.000000            1.000000   1.000000   \n",
       "25%       62.750000    154.500000   236.000000            1.000000   1.000000   \n",
       "50%      197.500000    444.000000   632.500000            6.000000   4.000000   \n",
       "75%      563.500000   1669.750000  2001.250000           10.000000   7.000000   \n",
       "max     1070.000000   5947.000000  3889.000000           33.000000  25.000000   \n",
       "\n",
       "        TeamLaunch  HighestPositionHeld  \n",
       "count         10.0            60.000000  \n",
       "unique         NaN                  NaN  \n",
       "top            NaN                  NaN  \n",
       "freq           NaN                  NaN  \n",
       "mean        1929.0             7.050000  \n",
       "std            0.0             5.315232  \n",
       "min         1929.0             1.000000  \n",
       "25%         1929.0             3.000000  \n",
       "50%         1929.0             6.000000  \n",
       "75%         1929.0            10.000000  \n",
       "max         1929.0            20.000000  "
      ]
     },
     "execution_count": 100,
     "metadata": {},
     "output_type": "execute_result"
    }
   ],
   "source": [
    "#EDA and statistical analysis\n",
    "data.describe(include=\"all\")\n"
   ]
  },
  {
   "cell_type": "code",
   "execution_count": 109,
   "id": "be8204fb",
   "metadata": {},
   "outputs": [
    {
     "data": {
      "image/png": "[encoded data removed]",
      "text/plain": [
       "<Figure size 1080x360 with 12 Axes>"
      ]
     },
     "metadata": {
      "needs_background": "light"
     },
     "output_type": "display_data"
    }
   ],
   "source": [
    "#box plots to understand that each column, check skewness and outliers\n",
    "box_plot, ax = plt.subplots(3,4)\n",
    "\n",
    "box_plot.set_figheight(5)\n",
    "box_plot.set_figwidth(15)\n",
    "\n",
    "sns.boxplot(x=data['PlayedGames'],ax=ax[0][0])\n",
    "sns.boxplot(x=data['WonGames'],ax=ax[0][1])\n",
    "sns.boxplot(x=data['TournamentChampion'],ax=ax[0][2])\n",
    "sns.boxplot(x=data['Runner-up'],ax=ax[0][3])\n",
    "sns.boxplot(x=data['TeamLaunch'],ax=ax[1][0])\n",
    "sns.boxplot(x=data['HighestPositionHeld'],ax=ax[1][1])\n",
    "sns.boxplot(x=data['BasketScored'],ax=ax[1][2])\n",
    "sns.boxplot(x=data['BasketGiven'],ax=ax[1][3])\n",
    "sns.boxplot(x=data['Tournament'],ax=ax[2][0])\n",
    "sns.boxplot(x=data['Score'],ax=ax[2][1])\n",
    "sns.boxplot(x=data['DrawnGames'],ax=ax[2][2])\n",
    "sns.boxplot(x=data['LostGames'],ax=ax[2][3])\n",
    "\n",
    "box_plot.tight_layout() \n"
   ]
  },
  {
   "cell_type": "markdown",
   "id": "badc1d8e",
   "metadata": {},
   "source": [
    "# wongames,score and basketscored are outliers based on above figures"
   ]
  },
  {
   "cell_type": "markdown",
   "id": "34e33f9e",
   "metadata": {},
   "source": [
    "# Find out correlation among the columns in data set "
   ]
  },
  {
   "cell_type": "code",
   "execution_count": 110,
   "id": "098c6c29",
   "metadata": {},
   "outputs": [
    {
     "data": {
      "text/html": [
       "<div>\n",
       "<style scoped>\n",
       "    .dataframe tbody tr th:only-of-type {\n",
       "        vertical-align: middle;\n",
       "    }\n",
       "\n",
       "    .dataframe tbody tr th {\n",
       "        vertical-align: top;\n",
       "    }\n",
       "\n",
       "    .dataframe thead th {\n",
       "        text-align: right;\n",
       "    }\n",
       "</style>\n",
       "<table border=\"1\" class=\"dataframe\">\n",
       "  <thead>\n",
       "    <tr style=\"text-align: right;\">\n",
       "      <th></th>\n",
       "      <th>Tournament</th>\n",
       "      <th>Score</th>\n",
       "      <th>PlayedGames</th>\n",
       "      <th>WonGames</th>\n",
       "      <th>DrawnGames</th>\n",
       "      <th>LostGames</th>\n",
       "      <th>BasketScored</th>\n",
       "      <th>BasketGiven</th>\n",
       "      <th>TournamentChampion</th>\n",
       "      <th>Runner-up</th>\n",
       "      <th>TeamLaunch</th>\n",
       "      <th>HighestPositionHeld</th>\n",
       "    </tr>\n",
       "  </thead>\n",
       "  <tbody>\n",
       "    <tr>\n",
       "      <th>Tournament</th>\n",
       "      <td>1.000000</td>\n",
       "      <td>0.981258</td>\n",
       "      <td>0.998683</td>\n",
       "      <td>0.971749</td>\n",
       "      <td>0.989295</td>\n",
       "      <td>0.949350</td>\n",
       "      <td>0.974867</td>\n",
       "      <td>0.987781</td>\n",
       "      <td>0.630689</td>\n",
       "      <td>0.650284</td>\n",
       "      <td>NaN</td>\n",
       "      <td>-0.708002</td>\n",
       "    </tr>\n",
       "    <tr>\n",
       "      <th>Score</th>\n",
       "      <td>0.981258</td>\n",
       "      <td>1.000000</td>\n",
       "      <td>0.979687</td>\n",
       "      <td>0.997232</td>\n",
       "      <td>0.958090</td>\n",
       "      <td>0.878780</td>\n",
       "      <td>0.996634</td>\n",
       "      <td>0.943801</td>\n",
       "      <td>0.872764</td>\n",
       "      <td>0.833611</td>\n",
       "      <td>NaN</td>\n",
       "      <td>-0.669215</td>\n",
       "    </tr>\n",
       "    <tr>\n",
       "      <th>PlayedGames</th>\n",
       "      <td>0.998683</td>\n",
       "      <td>0.979687</td>\n",
       "      <td>1.000000</td>\n",
       "      <td>0.967486</td>\n",
       "      <td>0.993972</td>\n",
       "      <td>0.955925</td>\n",
       "      <td>0.969970</td>\n",
       "      <td>0.990020</td>\n",
       "      <td>0.614738</td>\n",
       "      <td>0.636178</td>\n",
       "      <td>NaN</td>\n",
       "      <td>-0.711065</td>\n",
       "    </tr>\n",
       "    <tr>\n",
       "      <th>WonGames</th>\n",
       "      <td>0.971749</td>\n",
       "      <td>0.997232</td>\n",
       "      <td>0.967486</td>\n",
       "      <td>1.000000</td>\n",
       "      <td>0.939416</td>\n",
       "      <td>0.851436</td>\n",
       "      <td>0.999312</td>\n",
       "      <td>0.925745</td>\n",
       "      <td>0.882823</td>\n",
       "      <td>0.852441</td>\n",
       "      <td>NaN</td>\n",
       "      <td>-0.647819</td>\n",
       "    </tr>\n",
       "    <tr>\n",
       "      <th>DrawnGames</th>\n",
       "      <td>0.989295</td>\n",
       "      <td>0.958090</td>\n",
       "      <td>0.993972</td>\n",
       "      <td>0.939416</td>\n",
       "      <td>1.000000</td>\n",
       "      <td>0.972786</td>\n",
       "      <td>0.942234</td>\n",
       "      <td>0.992479</td>\n",
       "      <td>0.308734</td>\n",
       "      <td>0.474282</td>\n",
       "      <td>NaN</td>\n",
       "      <td>-0.720248</td>\n",
       "    </tr>\n",
       "    <tr>\n",
       "      <th>LostGames</th>\n",
       "      <td>0.949350</td>\n",
       "      <td>0.878780</td>\n",
       "      <td>0.955925</td>\n",
       "      <td>0.851436</td>\n",
       "      <td>0.972786</td>\n",
       "      <td>1.000000</td>\n",
       "      <td>0.857843</td>\n",
       "      <td>0.985041</td>\n",
       "      <td>-0.538801</td>\n",
       "      <td>-0.019934</td>\n",
       "      <td>NaN</td>\n",
       "      <td>-0.726172</td>\n",
       "    </tr>\n",
       "    <tr>\n",
       "      <th>BasketScored</th>\n",
       "      <td>0.974867</td>\n",
       "      <td>0.996634</td>\n",
       "      <td>0.969970</td>\n",
       "      <td>0.999312</td>\n",
       "      <td>0.942234</td>\n",
       "      <td>0.857843</td>\n",
       "      <td>1.000000</td>\n",
       "      <td>0.931079</td>\n",
       "      <td>0.862878</td>\n",
       "      <td>0.841565</td>\n",
       "      <td>NaN</td>\n",
       "      <td>-0.648672</td>\n",
       "    </tr>\n",
       "    <tr>\n",
       "      <th>BasketGiven</th>\n",
       "      <td>0.987781</td>\n",
       "      <td>0.943801</td>\n",
       "      <td>0.990020</td>\n",
       "      <td>0.925745</td>\n",
       "      <td>0.992479</td>\n",
       "      <td>0.985041</td>\n",
       "      <td>0.931079</td>\n",
       "      <td>1.000000</td>\n",
       "      <td>0.194981</td>\n",
       "      <td>0.406678</td>\n",
       "      <td>NaN</td>\n",
       "      <td>-0.727323</td>\n",
       "    </tr>\n",
       "    <tr>\n",
       "      <th>TournamentChampion</th>\n",
       "      <td>0.630689</td>\n",
       "      <td>0.872764</td>\n",
       "      <td>0.614738</td>\n",
       "      <td>0.882823</td>\n",
       "      <td>0.308734</td>\n",
       "      <td>-0.538801</td>\n",
       "      <td>0.862878</td>\n",
       "      <td>0.194981</td>\n",
       "      <td>1.000000</td>\n",
       "      <td>0.961435</td>\n",
       "      <td>NaN</td>\n",
       "      <td>NaN</td>\n",
       "    </tr>\n",
       "    <tr>\n",
       "      <th>Runner-up</th>\n",
       "      <td>0.650284</td>\n",
       "      <td>0.833611</td>\n",
       "      <td>0.636178</td>\n",
       "      <td>0.852441</td>\n",
       "      <td>0.474282</td>\n",
       "      <td>-0.019934</td>\n",
       "      <td>0.841565</td>\n",
       "      <td>0.406678</td>\n",
       "      <td>0.961435</td>\n",
       "      <td>1.000000</td>\n",
       "      <td>NaN</td>\n",
       "      <td>-0.569812</td>\n",
       "    </tr>\n",
       "    <tr>\n",
       "      <th>TeamLaunch</th>\n",
       "      <td>NaN</td>\n",
       "      <td>NaN</td>\n",
       "      <td>NaN</td>\n",
       "      <td>NaN</td>\n",
       "      <td>NaN</td>\n",
       "      <td>NaN</td>\n",
       "      <td>NaN</td>\n",
       "      <td>NaN</td>\n",
       "      <td>NaN</td>\n",
       "      <td>NaN</td>\n",
       "      <td>NaN</td>\n",
       "      <td>NaN</td>\n",
       "    </tr>\n",
       "    <tr>\n",
       "      <th>HighestPositionHeld</th>\n",
       "      <td>-0.708002</td>\n",
       "      <td>-0.669215</td>\n",
       "      <td>-0.711065</td>\n",
       "      <td>-0.647819</td>\n",
       "      <td>-0.720248</td>\n",
       "      <td>-0.726172</td>\n",
       "      <td>-0.648672</td>\n",
       "      <td>-0.727323</td>\n",
       "      <td>NaN</td>\n",
       "      <td>-0.569812</td>\n",
       "      <td>NaN</td>\n",
       "      <td>1.000000</td>\n",
       "    </tr>\n",
       "  </tbody>\n",
       "</table>\n",
       "</div>"
      ],
      "text/plain": [
       "                     Tournament     Score  PlayedGames  WonGames  DrawnGames  \\\n",
       "Tournament             1.000000  0.981258     0.998683  0.971749    0.989295   \n",
       "Score                  0.981258  1.000000     0.979687  0.997232    0.958090   \n",
       "PlayedGames            0.998683  0.979687     1.000000  0.967486    0.993972   \n",
       "WonGames               0.971749  0.997232     0.967486  1.000000    0.939416   \n",
       "DrawnGames             0.989295  0.958090     0.993972  0.939416    1.000000   \n",
       "LostGames              0.949350  0.878780     0.955925  0.851436    0.972786   \n",
       "BasketScored           0.974867  0.996634     0.969970  0.999312    0.942234   \n",
       "BasketGiven            0.987781  0.943801     0.990020  0.925745    0.992479   \n",
       "TournamentChampion     0.630689  0.872764     0.614738  0.882823    0.308734   \n",
       "Runner-up              0.650284  0.833611     0.636178  0.852441    0.474282   \n",
       "TeamLaunch                  NaN       NaN          NaN       NaN         NaN   \n",
       "HighestPositionHeld   -0.708002 -0.669215    -0.711065 -0.647819   -0.720248   \n",
       "\n",
       "                     LostGames  BasketScored  BasketGiven  TournamentChampion  \\\n",
       "Tournament            0.949350      0.974867     0.987781            0.630689   \n",
       "Score                 0.878780      0.996634     0.943801            0.872764   \n",
       "PlayedGames           0.955925      0.969970     0.990020            0.614738   \n",
       "WonGames              0.851436      0.999312     0.925745            0.882823   \n",
       "DrawnGames            0.972786      0.942234     0.992479            0.308734   \n",
       "LostGames             1.000000      0.857843     0.985041           -0.538801   \n",
       "BasketScored          0.857843      1.000000     0.931079            0.862878   \n",
       "BasketGiven           0.985041      0.931079     1.000000            0.194981   \n",
       "TournamentChampion   -0.538801      0.862878     0.194981            1.000000   \n",
       "Runner-up            -0.019934      0.841565     0.406678            0.961435   \n",
       "TeamLaunch                 NaN           NaN          NaN                 NaN   \n",
       "HighestPositionHeld  -0.726172     -0.648672    -0.727323                 NaN   \n",
       "\n",
       "                     Runner-up  TeamLaunch  HighestPositionHeld  \n",
       "Tournament            0.650284         NaN            -0.708002  \n",
       "Score                 0.833611         NaN            -0.669215  \n",
       "PlayedGames           0.636178         NaN            -0.711065  \n",
       "WonGames              0.852441         NaN            -0.647819  \n",
       "DrawnGames            0.474282         NaN            -0.720248  \n",
       "LostGames            -0.019934         NaN            -0.726172  \n",
       "BasketScored          0.841565         NaN            -0.648672  \n",
       "BasketGiven           0.406678         NaN            -0.727323  \n",
       "TournamentChampion    0.961435         NaN                  NaN  \n",
       "Runner-up             1.000000         NaN            -0.569812  \n",
       "TeamLaunch                 NaN         NaN                  NaN  \n",
       "HighestPositionHeld  -0.569812         NaN             1.000000  "
      ]
     },
     "execution_count": 110,
     "metadata": {},
     "output_type": "execute_result"
    }
   ],
   "source": [
    "corr1 = data.corr()\n",
    "corr1"
   ]
  },
  {
   "cell_type": "code",
   "execution_count": 111,
   "id": "b19da907",
   "metadata": {},
   "outputs": [
    {
     "data": {
      "text/plain": [
       "<AxesSubplot:>"
      ]
     },
     "execution_count": 111,
     "metadata": {},
     "output_type": "execute_result"
    },
    {
     "data": {
      "image/png": "[encoded data removed]",
      "text/plain": [
       "<Figure size 864x360 with 2 Axes>"
      ]
     },
     "metadata": {
      "needs_background": "light"
     },
     "output_type": "display_data"
    }
   ],
   "source": [
    "#Correlation Map\n",
    "plt.figure(figsize=(12,5))\n",
    "sns.heatmap(corr1,annot=True)"
   ]
  },
  {
   "cell_type": "markdown",
   "id": "f624c1fb",
   "metadata": {},
   "source": [
    "# Highly corralated data set as values are around or near to 1"
   ]
  },
  {
   "cell_type": "code",
   "execution_count": null,
   "id": "a9104b3b",
   "metadata": {},
   "outputs": [],
   "source": []
  },
  {
   "cell_type": "code",
   "execution_count": null,
   "id": "c3d83fcb",
   "metadata": {},
   "outputs": [],
   "source": []
  }
 ],
 "metadata": {
  "kernelspec": {
   "display_name": "Python 3 (ipykernel)",
   "language": "python",
   "name": "python3"
  },
  "language_info": {
   "codemirror_mode": {
    "name": "ipython",
    "version": 3
   },
   "file_extension": ".py",
   "mimetype": "text/x-python",
   "name": "python",
   "nbconvert_exporter": "python",
   "pygments_lexer": "ipython3",
   "version": "3.9.12"
  }
 },
 "nbformat": 4,
 "nbformat_minor": 5
}
